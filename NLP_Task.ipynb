{
 "cells": [
  {
   "cell_type": "code",
   "execution_count": 1,
   "id": "ae912653",
   "metadata": {},
   "outputs": [],
   "source": [
    "import numpy as np\n",
    "import pandas as pd\n"
   ]
  },
  {
   "cell_type": "code",
   "execution_count": 2,
   "id": "a87bc885",
   "metadata": {},
   "outputs": [
    {
     "name": "stdout",
     "output_type": "stream",
     "text": [
      "Requirement already satisfied: scapy in c:\\users\\dell\\anaconda3\\lib\\site-packages (2.4.5)\n"
     ]
    }
   ],
   "source": [
    "!pip install scapy"
   ]
  },
  {
   "cell_type": "code",
   "execution_count": 3,
   "id": "604e1c98",
   "metadata": {},
   "outputs": [
    {
     "name": "stdout",
     "output_type": "stream",
     "text": [
      "Requirement already satisfied: nltk in c:\\users\\dell\\anaconda3\\lib\\site-packages (3.7)\n",
      "Requirement already satisfied: click in c:\\users\\dell\\anaconda3\\lib\\site-packages (from nltk) (8.0.4)\n",
      "Requirement already satisfied: regex>=2021.8.3 in c:\\users\\dell\\anaconda3\\lib\\site-packages (from nltk) (2022.3.15)\n",
      "Requirement already satisfied: tqdm in c:\\users\\dell\\anaconda3\\lib\\site-packages (from nltk) (4.64.0)\n",
      "Requirement already satisfied: joblib in c:\\users\\dell\\anaconda3\\lib\\site-packages (from nltk) (1.1.0)\n",
      "Requirement already satisfied: colorama in c:\\users\\dell\\anaconda3\\lib\\site-packages (from click->nltk) (0.4.4)\n"
     ]
    }
   ],
   "source": [
    "!pip install nltk"
   ]
  },
  {
   "cell_type": "code",
   "execution_count": 4,
   "id": "fe0316df",
   "metadata": {},
   "outputs": [
    {
     "name": "stdout",
     "output_type": "stream",
     "text": [
      "Requirement already satisfied: deep-translator in c:\\users\\dell\\anaconda3\\lib\\site-packages (1.9.1)\n",
      "Requirement already satisfied: requests<3.0.0,>=2.23.0 in c:\\users\\dell\\anaconda3\\lib\\site-packages (from deep-translator) (2.27.1)\n",
      "Requirement already satisfied: beautifulsoup4<5.0.0,>=4.9.1 in c:\\users\\dell\\anaconda3\\lib\\site-packages (from deep-translator) (4.11.1)\n",
      "Requirement already satisfied: soupsieve>1.2 in c:\\users\\dell\\anaconda3\\lib\\site-packages (from beautifulsoup4<5.0.0,>=4.9.1->deep-translator) (2.3.1)\n",
      "Requirement already satisfied: idna<4,>=2.5 in c:\\users\\dell\\anaconda3\\lib\\site-packages (from requests<3.0.0,>=2.23.0->deep-translator) (3.3)\n",
      "Requirement already satisfied: charset-normalizer~=2.0.0 in c:\\users\\dell\\anaconda3\\lib\\site-packages (from requests<3.0.0,>=2.23.0->deep-translator) (2.0.4)\n",
      "Requirement already satisfied: certifi>=2017.4.17 in c:\\users\\dell\\anaconda3\\lib\\site-packages (from requests<3.0.0,>=2.23.0->deep-translator) (2021.10.8)\n",
      "Requirement already satisfied: urllib3<1.27,>=1.21.1 in c:\\users\\dell\\anaconda3\\lib\\site-packages (from requests<3.0.0,>=2.23.0->deep-translator) (1.26.9)\n"
     ]
    }
   ],
   "source": [
    "!pip install deep-translator"
   ]
  },
  {
   "cell_type": "code",
   "execution_count": 5,
   "id": "93fde213",
   "metadata": {},
   "outputs": [
    {
     "name": "stdout",
     "output_type": "stream",
     "text": [
      "Requirement already satisfied: pyspellchecker in c:\\users\\dell\\anaconda3\\lib\\site-packages (0.7.0)\n"
     ]
    }
   ],
   "source": [
    "!pip install pyspellchecker"
   ]
  },
  {
   "cell_type": "code",
   "execution_count": 7,
   "id": "7058b879",
   "metadata": {},
   "outputs": [],
   "source": [
    "import nltk\n",
    "from deep_translator import GoogleTranslator"
   ]
  },
  {
   "cell_type": "code",
   "execution_count": 8,
   "id": "34d7ddc0",
   "metadata": {},
   "outputs": [
    {
     "data": {
      "text/html": [
       "<div>\n",
       "<style scoped>\n",
       "    .dataframe tbody tr th:only-of-type {\n",
       "        vertical-align: middle;\n",
       "    }\n",
       "\n",
       "    .dataframe tbody tr th {\n",
       "        vertical-align: top;\n",
       "    }\n",
       "\n",
       "    .dataframe thead th {\n",
       "        text-align: right;\n",
       "    }\n",
       "</style>\n",
       "<table border=\"1\" class=\"dataframe\">\n",
       "  <thead>\n",
       "    <tr style=\"text-align: right;\">\n",
       "      <th></th>\n",
       "      <th>English words/sentences</th>\n",
       "    </tr>\n",
       "  </thead>\n",
       "  <tbody>\n",
       "    <tr>\n",
       "      <th>175616</th>\n",
       "      <td>Top-down economics never works, said Obama. \"T...</td>\n",
       "    </tr>\n",
       "    <tr>\n",
       "      <th>175617</th>\n",
       "      <td>A carbon footprint is the amount of carbon dio...</td>\n",
       "    </tr>\n",
       "    <tr>\n",
       "      <th>175618</th>\n",
       "      <td>Death is something that we're often discourage...</td>\n",
       "    </tr>\n",
       "    <tr>\n",
       "      <th>175619</th>\n",
       "      <td>Since there are usually multiple websites on a...</td>\n",
       "    </tr>\n",
       "    <tr>\n",
       "      <th>175620</th>\n",
       "      <td>If someone who doesn't know your background sa...</td>\n",
       "    </tr>\n",
       "  </tbody>\n",
       "</table>\n",
       "</div>"
      ],
      "text/plain": [
       "                                  English words/sentences\n",
       "175616  Top-down economics never works, said Obama. \"T...\n",
       "175617  A carbon footprint is the amount of carbon dio...\n",
       "175618  Death is something that we're often discourage...\n",
       "175619  Since there are usually multiple websites on a...\n",
       "175620  If someone who doesn't know your background sa..."
      ]
     },
     "execution_count": 8,
     "metadata": {},
     "output_type": "execute_result"
    }
   ],
   "source": [
    "df=pd.read_csv('English.csv')\n",
    "df.tail()"
   ]
  },
  {
   "cell_type": "code",
   "execution_count": 9,
   "id": "dbc82c18",
   "metadata": {},
   "outputs": [
    {
     "data": {
      "text/html": [
       "<div>\n",
       "<style scoped>\n",
       "    .dataframe tbody tr th:only-of-type {\n",
       "        vertical-align: middle;\n",
       "    }\n",
       "\n",
       "    .dataframe tbody tr th {\n",
       "        vertical-align: top;\n",
       "    }\n",
       "\n",
       "    .dataframe thead th {\n",
       "        text-align: right;\n",
       "    }\n",
       "</style>\n",
       "<table border=\"1\" class=\"dataframe\">\n",
       "  <thead>\n",
       "    <tr style=\"text-align: right;\">\n",
       "      <th></th>\n",
       "      <th>English words</th>\n",
       "    </tr>\n",
       "  </thead>\n",
       "  <tbody>\n",
       "    <tr>\n",
       "      <th>0</th>\n",
       "      <td>Hi.</td>\n",
       "    </tr>\n",
       "    <tr>\n",
       "      <th>1</th>\n",
       "      <td>Run!</td>\n",
       "    </tr>\n",
       "    <tr>\n",
       "      <th>2</th>\n",
       "      <td>Who?</td>\n",
       "    </tr>\n",
       "    <tr>\n",
       "      <th>3</th>\n",
       "      <td>Wow!</td>\n",
       "    </tr>\n",
       "    <tr>\n",
       "      <th>4</th>\n",
       "      <td>Fire!</td>\n",
       "    </tr>\n",
       "    <tr>\n",
       "      <th>...</th>\n",
       "      <td>...</td>\n",
       "    </tr>\n",
       "    <tr>\n",
       "      <th>123095</th>\n",
       "      <td>Top-down economics never works, said Obama. \"T...</td>\n",
       "    </tr>\n",
       "    <tr>\n",
       "      <th>123096</th>\n",
       "      <td>A carbon footprint is the amount of carbon dio...</td>\n",
       "    </tr>\n",
       "    <tr>\n",
       "      <th>123097</th>\n",
       "      <td>Death is something that we're often discourage...</td>\n",
       "    </tr>\n",
       "    <tr>\n",
       "      <th>123098</th>\n",
       "      <td>Since there are usually multiple websites on a...</td>\n",
       "    </tr>\n",
       "    <tr>\n",
       "      <th>123099</th>\n",
       "      <td>If someone who doesn't know your background sa...</td>\n",
       "    </tr>\n",
       "  </tbody>\n",
       "</table>\n",
       "<p>123100 rows × 1 columns</p>\n",
       "</div>"
      ],
      "text/plain": [
       "                                            English words\n",
       "0                                                     Hi.\n",
       "1                                                    Run!\n",
       "2                                                    Who?\n",
       "3                                                    Wow!\n",
       "4                                                   Fire!\n",
       "...                                                   ...\n",
       "123095  Top-down economics never works, said Obama. \"T...\n",
       "123096  A carbon footprint is the amount of carbon dio...\n",
       "123097  Death is something that we're often discourage...\n",
       "123098  Since there are usually multiple websites on a...\n",
       "123099  If someone who doesn't know your background sa...\n",
       "\n",
       "[123100 rows x 1 columns]"
      ]
     },
     "execution_count": 9,
     "metadata": {},
     "output_type": "execute_result"
    }
   ],
   "source": [
    "df=pd.DataFrame(df[\"English words/sentences\"].unique()).rename(columns={0:'English words'})\n",
    "df"
   ]
  },
  {
   "cell_type": "code",
   "execution_count": 10,
   "id": "b2668e08",
   "metadata": {},
   "outputs": [
    {
     "name": "stderr",
     "output_type": "stream",
     "text": [
      "C:\\Users\\Dell\\AppData\\Local\\Temp\\ipykernel_9996\\90765411.py:1: FutureWarning: The default value of regex will change from True to False in a future version.\n",
      "  df[\"English words\"]=df[\"English words\"].str.replace(\"[^a-zA-Z0-9]+\",' ')\n"
     ]
    },
    {
     "data": {
      "text/plain": [
       "0                                                       Hi \n",
       "1                                                      Run \n",
       "2                                                      Who \n",
       "3                                                      Wow \n",
       "4                                                     Fire \n",
       "                                ...                        \n",
       "123095    Top down economics never works said Obama The ...\n",
       "123096    A carbon footprint is the amount of carbon dio...\n",
       "123097    Death is something that we re often discourage...\n",
       "123098    Since there are usually multiple websites on a...\n",
       "123099    If someone who doesn t know your background sa...\n",
       "Name: English words, Length: 123100, dtype: object"
      ]
     },
     "execution_count": 10,
     "metadata": {},
     "output_type": "execute_result"
    }
   ],
   "source": [
    "df[\"English words\"]=df[\"English words\"].str.replace(\"[^a-zA-Z0-9]+\",' ')\n",
    "df[\"English words\"]\n"
   ]
  },
  {
   "cell_type": "code",
   "execution_count": 14,
   "id": "458f9554",
   "metadata": {},
   "outputs": [],
   "source": [
    "def Translate(rev):\n",
    "    translation_tokenized=GoogleTranslator(source='english',target='fr').translate(rev)\n",
    "    return translation_tokenized"
   ]
  },
  {
   "cell_type": "code",
   "execution_count": 12,
   "id": "5d4acc33",
   "metadata": {},
   "outputs": [
    {
     "data": {
      "text/plain": [
       "['Salut',\n",
       " 'Courir',\n",
       " 'Qui',\n",
       " 'Ouah',\n",
       " 'Feu',\n",
       " 'Aider',\n",
       " 'Saut',\n",
       " 'Arrêt',\n",
       " 'Attendre',\n",
       " 'Continue',\n",
       " 'Bonjour',\n",
       " 'Je vois',\n",
       " \"J'essaye\",\n",
       " \"J'ai gagné\",\n",
       " \"J'ai gagné\",\n",
       " 'Oh non',\n",
       " 'Attaque',\n",
       " 'Acclamations',\n",
       " 'Se lever',\n",
       " 'Allez maintenant',\n",
       " \"J'ai compris\",\n",
       " \"J'ai compris\",\n",
       " 'Monter dedans',\n",
       " 'Donne moi un câlin',\n",
       " 'je suis tombé',\n",
       " 'je sais',\n",
       " 'Je suis parti',\n",
       " \"j'ai menti\",\n",
       " \"J'ai perdu\",\n",
       " \"j'ai payé\",\n",
       " \"J'ai 19 ans\",\n",
       " 'Je vais bien',\n",
       " 'Ecoutez',\n",
       " 'Certainement pas',\n",
       " 'Vraiment',\n",
       " 'Merci',\n",
       " 'Nous essayons',\n",
       " 'Nous avons gagné',\n",
       " 'Demander à Tom',\n",
       " 'Impressionnant',\n",
       " 'Sois calme',\n",
       " 'Soit cool',\n",
       " 'Être juste',\n",
       " 'Etre gentil',\n",
       " 'Sois gentil',\n",
       " 'Batte-le',\n",
       " 'Appelez-moi',\n",
       " 'Appelez-nous',\n",
       " 'Entrez',\n",
       " 'Allez']"
      ]
     },
     "execution_count": 12,
     "metadata": {},
     "output_type": "execute_result"
    }
   ],
   "source": [
    "french_words=[Translate(r) for r in df[\"English words\"].head(50)]\n",
    "french_words"
   ]
  },
  {
   "cell_type": "code",
   "execution_count": 16,
   "id": "1abc68e1",
   "metadata": {},
   "outputs": [
    {
     "data": {
      "text/plain": [
       "[\"Ma mère m'a toujours dit que je devais mettre de l'argent à la banque tous les mois pour avoir assez d'argent en cas d'urgence\",\n",
       " 'La différence entre le mot juste et presque le mot juste est la différence entre la foudre et le bogue de la foudre',\n",
       " 'Nous voyons avec nos yeux nous entendons avec nos oreilles nous touchons avec notre peau nous sentons avec notre nez et nous goûtons avec notre langue',\n",
       " \"Si vous ne déjeunez pas, vous aurez probablement faim le matin et vous ne serez pas aussi efficace au travail que vous pourriez l'être.\",\n",
       " \"L'un des avantages d'être vieux est que vous ne désirez plus toutes les choses que vous ne pouviez pas vous permettre d'acheter quand vous étiez jeune.\",\n",
       " \"Je regardais beaucoup cet anime quand j'étais enfant mais je ne me souviens pas très bien de ce qui est arrivé au héros dans l'épisode final\",\n",
       " \"Dans le même laps de temps qu'il me faudrait pour corriger toutes les erreurs de votre rapport, je pourrais écrire un meilleur rapport moi-même\",\n",
       " 'La langue anglaise est sans aucun doute le moyen de communication internationale le plus simple et en même temps le plus efficace.',\n",
       " \"Je pensais avoir payé les frais mensuels mais j'ai reçu un appel téléphonique de l'école disant que la facture devait encore être payée\",\n",
       " 'Une bonne relation repose sur deux grands principes. Premièrement, appréciez vos similitudes et deuxièmement, respectez vos différences.',\n",
       " 'Selon le contrat, vous pouvez prendre trois jours de congé de deuil pour les funérailles de votre oncle mais un seul pour les funérailles de votre neveu.',\n",
       " \"Les prix des denrées alimentaires sont à leur plus haut niveau depuis que l'Organisation des Nations Unies pour l'alimentation et l'agriculture a commencé à tenir des registres en 1990\",\n",
       " \"Si on a le droit de vivre alors on devrait aussi avoir le droit de mourir Sinon alors vivre n'est pas un droit mais une obligation\",\n",
       " \"C'était déjà assez grave qu'il arrive généralement au travail tard, mais arriver ivre était la goutte d'eau et je vais devoir le laisser partir\",\n",
       " \"L'enseignante qui surveillait la cour de récréation s'est inquiétée lorsqu'elle a vu un homme parler à certains des enfants par-dessus la clôture de l'école\",\n",
       " 'Les villes et les provinces situées le long du fleuve Yangtze, dans le centre de la Chine, sont aux prises avec la pire sécheresse du pays depuis plus de 50 ans',\n",
       " \"Cette proposition peut être un moyen de faire d'une pierre deux coups, mais nous devons également faire attention à ne pas devenir gourmand et tout gâcher.\",\n",
       " 'Un comité est un groupe de personnes qui individuellement ne peuvent rien faire mais qui, en tant que groupe, peuvent se réunir et décider que rien ne peut être fait',\n",
       " \"Mon petit-déjeuner se compose généralement de café au lait un morceau de pain et de confiture une petite banane un morceau d'orange et quelques prunes séchées\",\n",
       " \"L'une des meilleures façons de nous aider est de traduire d'une langue étrangère que vous connaissez vers votre propre langue maternelle ou votre langue la plus forte.\",\n",
       " \"Comme il va bientôt faire froid, il pourrait être agréable de faire quelque chose à l'extérieur les derniers jours chauds que nous avons avant que l'hiver ne s'installe.\",\n",
       " \"Les gens ont tendance à ne vous complimenter sur vos compétences linguistiques que lorsqu'il est évident que vous n'avez toujours pas l'air d'un locuteur natif.\",\n",
       " \"Un homme qui n'est jamais allé à l'école peut voler un wagon de marchandises, mais s'il a fait des études universitaires, il peut voler tout le chemin de fer.\",\n",
       " \"Qu'est-ce que la vieillesse D'abord vous oubliez les noms puis vous oubliez les visages puis vous oubliez de remonter votre fermeture éclair puis vous oubliez de la baisser\",\n",
       " \"Lui et moi avons une compréhension quasi télépathique l'un de l'autre Dès que l'un de nous dit quelque chose, l'autre répond déjà\",\n",
       " \"Bien que les forêts tropicales ne représentent que 2 % de la surface de la terre, plus de la moitié des espèces sauvages d'animaux et d'insectes du monde y vivent.\",\n",
       " 'Elle a un petit ami avec qui elle sort depuis le lycée mais elle sent que leur relation a stagné alors elle est insatisfaite',\n",
       " \"Si vous emmenez un enfant dehors et pointez la lune, l'enfant regardera la lune Si vous faites la même chose avec un chien, il regardera votre doigt\",\n",
       " \"Si vous traduisez de votre deuxième langue vers votre propre langue maternelle plutôt que l'inverse, vous êtes moins susceptible de faire des erreurs\",\n",
       " \"J'adore essayer de nouvelles choses, donc j'achète toujours les produits dès qu'ils arrivent dans les rayons des magasins Bien sûr, la moitié du temps, je finis par souhaiter ne pas l'avoir fait\",\n",
       " \"Une bonne théorie se caractérise par le fait qu'elle fait un certain nombre de prédictions qui pourraient en principe être réfutées ou falsifiées par l'observation\",\n",
       " \"Une planète semblable à la Terre, dont on pense qu'elle a des conditions propices à la vie telle que nous la connaissons, a été découverte à 500 années-lumière de la Terre\",\n",
       " 'Plus vous passez de temps à parler une langue étrangère, mieux vous arrivez à deviner ce que des locuteurs non natifs essaient de dire dans votre propre langue',\n",
       " \"L'enquête a conclu que malgré ses démentis, le directeur général aurait dû être au courant des pratiques illégales en cours dans l'entreprise.\",\n",
       " \"Le père de Roger Miller est mort alors qu'il n'avait qu'un an et sa mère est tombée malade peu de temps après, il a donc été envoyé vivre avec son oncle à Erick Oklahoma\",\n",
       " \"Vous n'apprendrez peut-être pas à parler aussi bien qu'un locuteur natif, mais vous devriez être capable de parler suffisamment bien pour que les locuteurs natifs comprennent ce que vous avez à dire.\",\n",
       " \"Et la bonne nouvelle, c'est qu'aujourd'hui l'économie est à nouveau en croissance. Les revenus salariaux, la valeur des maisons et les comptes de retraite augmentent à nouveau.\",\n",
       " \"Les cigarettes électroniques sont promues comme une alternative saine aux cigarettes de tabac, mais les autorités sanitaires s'inquiètent des effets à long terme sur la santé des utilisateurs\",\n",
       " \"Il est encore trop difficile de trouver un emploi Et même si vous avez des chances d'obtenir un emploi, vous avez plus de mal à payer les coûts croissants de tout, de l'épicerie à l'essence\",\n",
       " \"Même à la fin du XIXe siècle, les marins de la marine britannique n'étaient pas autorisés à utiliser des couteaux et des fourchettes car leur utilisation était considérée comme un signe de faiblesse.\",\n",
       " \"Cinq tremblements de magnitude supérieure à 5 0 sur l'échelle de Richter ont secoué le Japon cette semaine, mais les scientifiques préviennent que la plus grande réplique attendue n'a pas encore frappé\",\n",
       " \"Peu importe à quel point vous essayez de convaincre les gens que le chocolat est de la vanille, ce sera toujours du chocolat, même si vous parvenez à vous convaincre, ainsi que quelques autres, que c'est de la vanille.\",\n",
       " \"Un enfant qui est un locuteur natif sait généralement beaucoup de choses sur sa langue qu'un locuteur non natif qui étudie depuis des années ne sait toujours pas et ne saura peut-être jamais\",\n",
       " \"Il existe quatre causes principales de décès liés à l'alcool. Les blessures causées par des accidents de voiture ou la violence en sont une. Des maladies comme la cirrhose du foie, le cancer du cœur et les maladies du système sanguin sont les autres.\",\n",
       " \"Nous devons faire respecter les lois contre la discrimination à l'embauche, au logement, à l'éducation et dans le système de justice pénale C'est ce que notre Constitution et nos idéaux les plus élevés exigent\",\n",
       " \"L'économie descendante ne fonctionne jamais, a déclaré Obama Le pays ne réussit pas lorsque seuls ceux qui sont au sommet se portent bien Nous réussissons lorsque la classe moyenne s'agrandit lorsqu'elle se sent plus en sécurité\",\n",
       " \"Une empreinte carbone est la quantité de dioxyde de carbone que nous produisons à la suite de nos activités Certaines personnes essaient de réduire leur empreinte carbone parce qu'elles sont préoccupées par le changement climatique\",\n",
       " \"La mort est quelque chose dont nous sommes souvent découragés de parler ou même de penser, mais j'ai réalisé que se préparer à la mort est l'une des choses les plus stimulantes que vous puissiez faire Penser à la mort clarifie votre vie\",\n",
       " \"Comme il existe généralement plusieurs sites Web sur un sujet donné, je clique généralement sur le bouton de retour lorsque j'arrive sur une page Web contenant des publicités contextuelles. Je vais simplement à la page suivante trouvée par Google et j'espère quelque chose de moins irritant.\",\n",
       " \"Si quelqu'un qui ne connaît pas vos antécédents dit que vous parlez comme un locuteur natif, cela signifie qu'il a probablement remarqué quelque chose dans votre façon de parler qui lui a fait réaliser que vous n'étiez pas un locuteur natif. En d'autres termes, vous ne parlez pas vraiment comme un locuteur natif.\"]"
      ]
     },
     "execution_count": 16,
     "metadata": {},
     "output_type": "execute_result"
    }
   ],
   "source": [
    "french_sen=[GoogleTranslator(source='english',target='fr').translate(r) for r in df[\"English words\"].tail(50)]\n",
    "french_sen"
   ]
  },
  {
   "cell_type": "code",
   "execution_count": 12,
   "id": "7e2e0581",
   "metadata": {},
   "outputs": [],
   "source": [
    "def Translate(la):\n",
    "    trans_token=GoogleTranslator(source='english',target='de').translate(la)\n",
    "    return trans_token"
   ]
  },
  {
   "cell_type": "code",
   "execution_count": 13,
   "id": "04dbb0c1",
   "metadata": {},
   "outputs": [
    {
     "data": {
      "text/plain": [
       "['Hi',\n",
       " 'Laufen',\n",
       " 'Wer',\n",
       " 'Wow',\n",
       " 'Feuer',\n",
       " 'Hilfe',\n",
       " 'Springen',\n",
       " 'Halt',\n",
       " 'Warte ab',\n",
       " 'Mach weiter',\n",
       " 'Hallo',\n",
       " 'Aha',\n",
       " 'ich versuche',\n",
       " 'ich habe gewonnen',\n",
       " 'ich habe gewonnen',\n",
       " 'Ach nein',\n",
       " 'Attacke',\n",
       " 'Prost',\n",
       " 'Steh auf',\n",
       " 'Geh jetzt',\n",
       " 'Ich habs',\n",
       " 'Ich habs',\n",
       " 'Steigen Sie ein',\n",
       " 'Umarme mich',\n",
       " 'Ich fiel',\n",
       " 'Ich weiss',\n",
       " 'Ich ging weg',\n",
       " 'ich habe gelogen',\n",
       " 'Ich habe verloren',\n",
       " 'ich habe bezahlt',\n",
       " 'Ich bin 19',\n",
       " 'Ich bin OK',\n",
       " 'Hör mal zu',\n",
       " 'Auf keinen Fall',\n",
       " 'Wirklich',\n",
       " 'Vielen Dank',\n",
       " 'Wir versuchen',\n",
       " 'Wir haben gewonnen',\n",
       " 'Frag Tom',\n",
       " 'Genial',\n",
       " 'Ruhig sein',\n",
       " 'Sei cool',\n",
       " 'Sei fair',\n",
       " 'Sei freundlich',\n",
       " 'Sei nett',\n",
       " 'Mach dich vom Acker',\n",
       " 'Ruf mich an',\n",
       " 'Rufen Sie uns an',\n",
       " 'Komm herein',\n",
       " 'Komm schon']"
      ]
     },
     "execution_count": 13,
     "metadata": {},
     "output_type": "execute_result"
    }
   ],
   "source": [
    "ger_words=[Translate(a) for a in df[\"English words\"].head(50)]\n",
    "ger_words"
   ]
  },
  {
   "cell_type": "code",
   "execution_count": 14,
   "id": "bfc58ce6",
   "metadata": {},
   "outputs": [
    {
     "data": {
      "text/plain": [
       "['Meine Mutter hat mir immer gesagt, dass ich jeden Monat Geld auf die Bank legen soll, damit ich im Notfall genug Geld habe',\n",
       " 'Der Unterschied zwischen dem richtigen Wort und dem fast richtigen Wort ist der Unterschied zwischen Blitz und Blitzkäfer',\n",
       " 'Wir sehen mit unseren Augen, wir hören mit unseren Ohren, wir berühren mit unserer Haut, wir riechen mit unserer Nase und wir schmecken mit unserer Zunge',\n",
       " 'Wenn Sie nicht frühstücken, werden Sie wahrscheinlich morgens hungrig sein und bei der Arbeit nicht so effizient sein, wie Sie es sein könnten',\n",
       " 'Ein Vorteil des Altseins ist, dass man sich all die Dinge, die man sich in jungen Jahren nicht leisten konnte, nicht mehr wünscht',\n",
       " 'Ich habe diesen Anime oft gesehen, als ich ein Kind war, aber ich kann mich nicht genau erinnern, was mit dem Helden in der letzten Folge passiert ist',\n",
       " 'In der gleichen Zeit, die ich brauchen würde, um alle Fehler in Ihrem Bericht zu korrigieren, könnte ich selbst einen besseren Bericht schreiben',\n",
       " 'Die englische Sprache ist zweifellos das einfachste und zugleich effizienteste Mittel der internationalen Kommunikation',\n",
       " 'Ich dachte, ich hätte die monatliche Gebühr bezahlt, aber ich erhielt einen Anruf von der Schule, dass die Rechnung noch bezahlt werden muss',\n",
       " 'Eine großartige Beziehung basiert auf zwei Hauptprinzipien: Schätzen Sie erstens Ihre Ähnlichkeiten und respektieren Sie zweitens Ihre Unterschiede',\n",
       " 'Laut Vertrag dürfen Sie für die Beerdigung Ihres Onkels drei Tage Trauerurlaub nehmen, für die Beerdigung Ihres Neffen aber nur einen',\n",
       " 'Die Lebensmittelpreise sind auf dem höchsten Stand, seit die Ernährungs- und Landwirtschaftsorganisation der Vereinten Nationen 1990 damit begann, Aufzeichnungen zu führen',\n",
       " 'Wenn man das Recht zu leben hat, sollte man auch das Recht zu sterben haben. Wenn nicht, dann ist das Leben kein Recht, sondern eine Pflicht',\n",
       " 'Es war schon schlimm genug, dass er meistens zu spät zur Arbeit kam, aber betrunken hereinzukommen, war der letzte Strohhalm und ich muss ihn gehen lassen',\n",
       " 'Die Lehrerin, die den Spielplatz beaufsichtigte, wurde besorgt, als sie sah, wie ein Mann über den Schulzaun hinweg mit einigen der Kinder sprach',\n",
       " 'Städte und Provinzen entlang des Jangtse in Zentralchina kämpfen mit der schlimmsten Dürre des Landes seit mehr als 50 Jahren',\n",
       " 'Dieser Vorschlag mag ein Weg sein, zwei Fliegen mit einer Klappe zu schlagen, aber wir müssen auch aufpassen, dass wir nicht gierig werden und alles verderben',\n",
       " 'Ein Komitee ist eine Gruppe von Menschen, die einzeln nichts tun können, die sich aber als Gruppe treffen und entscheiden können, dass nichts getan werden kann',\n",
       " 'Mein Frühstück besteht normalerweise aus Kaffee mit Milch, einem Stück Brot und Marmelade, einer kleinen Banane, einem Stück Orange und getrockneten Pflaumen',\n",
       " 'Eine der besten Möglichkeiten, uns zu helfen, besteht darin, aus einer Fremdsprache, die Sie kennen, in Ihre eigene Muttersprache oder stärkste Sprache zu übersetzen',\n",
       " 'Da es bald kalt wird, könnte es schön sein, die letzten warmen Tage vor dem Wintereinbruch im Freien zu verbringen',\n",
       " 'Menschen neigen dazu, Sie nur dann zu Ihren Sprachkenntnissen zu beglückwünschen, wenn offensichtlich ist, dass Sie immer noch nicht ganz wie ein Muttersprachler klingen',\n",
       " 'Ein Mann, der nie zur Schule gegangen ist, kann einen Güterwagen stehlen, aber wenn er eine Universitätsausbildung hat, kann er die ganze Eisenbahn stehlen',\n",
       " 'Was ist Alter? Zuerst vergisst du Namen, dann vergisst du Gesichter, dann vergisst du, deinen Reißverschluss hochzuziehen, dann vergisst du, ihn herunterzuziehen',\n",
       " 'Er und ich verstehen uns fast telepathisch. Kaum sagt einer von uns etwas, antwortet der andere auch schon',\n",
       " 'Obwohl Regenwälder nur zwei Prozent der Erdoberfläche ausmachen, leben dort über die Hälfte der weltweit wildlebenden Pflanzen-, Tier- und Insektenarten',\n",
       " 'Sie hat einen Freund, mit dem sie seit der High School ausgeht, aber sie hat das Gefühl, dass ihre Beziehung stagniert, also ist sie unzufrieden',\n",
       " 'Wenn Sie ein Kind nach draußen bringen und auf den Mond zeigen, wird das Kind auf den Mond schauen. Wenn Sie dasselbe mit einem Hund tun, wird es auf Ihren Finger schauen',\n",
       " 'Wenn Sie aus Ihrer Zweitsprache in Ihre eigene Muttersprache übersetzen und nicht umgekehrt, ist die Wahrscheinlichkeit geringer, dass Sie Fehler machen',\n",
       " 'Ich liebe es, neue Dinge auszuprobieren, also kaufe ich immer Produkte, sobald sie in die Regale kommen. Natürlich wünsche ich mir die Hälfte der Zeit, ich hätte es nicht getan',\n",
       " 'Eine gute Theorie zeichnet sich dadurch aus, dass sie eine Reihe von Vorhersagen trifft, die durch Beobachtung prinzipiell widerlegt oder falsifiziert werden könnten',\n",
       " 'Ein erdähnlicher Planet, von dem angenommen wird, dass er Bedingungen aufweist, die das Leben, wie wir es kennen, unterstützen würde, wurde 500 Lichtjahre von der Erde entfernt entdeckt',\n",
       " 'Je mehr Zeit Sie damit verbringen, eine Fremdsprache zu sprechen, desto besser können Sie erraten, was Nicht-Muttersprachler versuchen, in Ihrer eigenen Sprache zu sagen',\n",
       " 'Die Untersuchung ergab, dass der Vorstandsvorsitzende trotz seiner Dementis von den illegalen Praktiken im Unternehmen hätte wissen müssen',\n",
       " 'Roger Millers Vater starb, als er nur ein Jahr alt war, und seine Mutter wurde kurz darauf krank, sodass er zu seinem Onkel nach Erick, Oklahoma, geschickt wurde',\n",
       " 'Sie lernen vielleicht nicht so gut zu sprechen wie ein Muttersprachler, aber Sie sollten in der Lage sein, so gut zu sprechen, dass Muttersprachler verstehen, was Sie zu sagen haben',\n",
       " 'Und die gute Nachricht ist, dass die Wirtschaft heute wieder wächst. Löhne, Immobilienwerte und Rentenkonten steigen alle wieder. Armut geht wieder zurück',\n",
       " 'E-Zigaretten werden als gesunde Alternative zu Tabakzigaretten beworben, aber die Gesundheitsbehörden sind besorgt über die langfristigen gesundheitlichen Auswirkungen auf die Benutzer',\n",
       " 'Es ist immer noch zu schwer, einen Job zu finden Und selbst wenn Sie einen Job haben, haben Sie es wahrscheinlich schwerer, die steigenden Kosten für Lebensmittel und Benzin zu bezahlen',\n",
       " 'Noch Ende des 19. Jahrhunderts durften Seeleute der britischen Marine Messer und Gabeln nicht benutzen, weil deren Gebrauch als Zeichen von Schwäche galt',\n",
       " 'Fünf Erschütterungen mit einer Stärke von über 50 auf der Richterskala haben Japan erst diese Woche erschüttert, aber Wissenschaftler warnen davor, dass das größte erwartete Nachbeben noch aussteht',\n",
       " 'Egal wie sehr Sie versuchen, die Leute davon zu überzeugen, dass Schokolade Vanille ist, es wird immer noch Schokolade sein, auch wenn Sie es schaffen, sich selbst und ein paar andere davon zu überzeugen, dass es Vanille ist',\n",
       " 'Ein Kind, das Muttersprachler ist, weiß normalerweise viele Dinge über seine Sprache, die ein Nicht-Muttersprachler, der jahrelang studiert hat, noch nicht weiß und vielleicht nie wissen wird',\n",
       " 'Es gibt vier Hauptursachen für alkoholbedingte Todesfälle. Verletzungen durch Autounfälle oder Gewalt sind eine, Krankheiten wie Leberzirrhose, Krebs, Herz- und Blutsystemerkrankungen sind die anderen',\n",
       " 'Wir müssen Gesetze gegen Diskriminierung bei der Einstellung und beim Wohnen, im Bildungswesen und im Strafjustizsystem aufrechterhalten. Das verlangen unsere Verfassung und unsere höchsten Ideale',\n",
       " 'Top-down-Ökonomie funktioniert nie, sagte Obama. Das Land hat keinen Erfolg, wenn es nur den ganz oben gut geht. Wir haben Erfolg, wenn die Mittelklasse größer wird, wenn sie sich sicherer fühlt',\n",
       " 'Ein CO2-Fußabdruck ist die Menge an Kohlendioxidverschmutzung, die wir als Ergebnis unserer Aktivitäten verursachen. Manche Menschen versuchen, ihren CO2-Fußabdruck zu verringern, weil sie sich Sorgen um den Klimawandel machen',\n",
       " 'Der Tod ist etwas, von dem wir oft entmutigt sind, darüber zu sprechen oder auch nur darüber nachzudenken, aber ich habe erkannt, dass die Vorbereitung auf den Tod eines der ermächtigendsten Dinge ist, die Sie tun können. An den Tod zu denken, klärt Ihr Leben',\n",
       " 'Da es normalerweise mehrere Websites zu einem bestimmten Thema gibt, klicke ich normalerweise einfach auf die Schaltfläche „Zurück“, wenn ich auf einer Webseite mit Popup-Werbung ankomme. Ich gehe einfach zur nächsten von Google gefundenen Seite und hoffe auf etwas weniger Irritierendes',\n",
       " 'Wenn jemand, der Ihren Hintergrund nicht kennt, sagt, dass Sie sich wie ein Muttersprachler anhören, bedeutet dies, dass er wahrscheinlich etwas an Ihrem Sprechen bemerkt hat, das ihm klar gemacht hat, dass Sie kein Muttersprachler sind. Mit anderen Worten, Sie klingen nicht wirklich wie ein Muttersprachler']"
      ]
     },
     "execution_count": 14,
     "metadata": {},
     "output_type": "execute_result"
    }
   ],
   "source": [
    "trans_ger_sent=[Translate(a) for a in df['English words'].tail(50)]\n",
    "trans_ger_sent"
   ]
  },
  {
   "cell_type": "code",
   "execution_count": 15,
   "id": "f0c46dc5",
   "metadata": {},
   "outputs": [],
   "source": [
    "#Translate each word or sentence from English to Spanish\n",
    "def Translate(rev):\n",
    "    trans_tok=GoogleTranslator(source='english',target='es').translate(rev)\n",
    "    return trans_tok\n"
   ]
  },
  {
   "cell_type": "code",
   "execution_count": 16,
   "id": "a909059d",
   "metadata": {},
   "outputs": [
    {
     "data": {
      "text/plain": [
       "['Hola',\n",
       " 'Correr',\n",
       " 'Quién',\n",
       " 'Guau',\n",
       " 'Fuego',\n",
       " 'Ayuda',\n",
       " 'Salto',\n",
       " 'Deténgase',\n",
       " 'Esperar',\n",
       " 'Continuar',\n",
       " 'Hola',\n",
       " 'ya veo',\n",
       " 'lo intento',\n",
       " 'gané',\n",
       " 'gané',\n",
       " 'Oh, no',\n",
       " 'Ataque',\n",
       " 'Salud',\n",
       " 'Levantarse',\n",
       " 'Ve ahora',\n",
       " 'Entiendo',\n",
       " 'Entiendo',\n",
       " 'súbete',\n",
       " 'Abrázame',\n",
       " 'Me caí',\n",
       " 'lo sé',\n",
       " 'me fui',\n",
       " 'mentí',\n",
       " 'perdí',\n",
       " 'He pagado',\n",
       " 'Tengo 19',\n",
       " 'Estoy bien',\n",
       " 'Escuchar',\n",
       " 'De ninguna manera',\n",
       " 'En realidad',\n",
       " 'Gracias',\n",
       " 'Intentamos',\n",
       " 'Ganamos',\n",
       " 'preguntale a tom',\n",
       " 'Impresionante',\n",
       " 'Estate calmado',\n",
       " 'Relájate',\n",
       " 'Sé justo',\n",
       " 'Se amable',\n",
       " 'Se bueno',\n",
       " 'Batirlo',\n",
       " 'Llámame',\n",
       " 'Llámanos',\n",
       " 'Adelante',\n",
       " 'Vamos']"
      ]
     },
     "execution_count": 16,
     "metadata": {},
     "output_type": "execute_result"
    }
   ],
   "source": [
    "trans_span_word=[Translate(y) for y in df['English words'].head(50)]\n",
    "trans_span_word"
   ]
  },
  {
   "cell_type": "code",
   "execution_count": 17,
   "id": "9eb26974",
   "metadata": {},
   "outputs": [
    {
     "data": {
      "text/plain": [
       "[\"Une bonne théorie se caractérise par le fait qu'elle fait un certain nombre de prédictions qui pourraient en principe être réfutées ou falsifiées par l'observation\",\n",
       " \"Une planète semblable à la Terre, dont on pense qu'elle a des conditions propices à la vie telle que nous la connaissons, a été découverte à 500 années-lumière de la Terre\",\n",
       " 'Plus vous passez de temps à parler une langue étrangère, mieux vous arrivez à deviner ce que des locuteurs non natifs essaient de dire dans votre propre langue',\n",
       " \"L'enquête a conclu que malgré ses démentis, le directeur général aurait dû être au courant des pratiques illégales en cours dans l'entreprise.\",\n",
       " \"Le père de Roger Miller est mort alors qu'il n'avait qu'un an et sa mère est tombée malade peu de temps après, il a donc été envoyé vivre avec son oncle à Erick Oklahoma\",\n",
       " \"Vous n'apprendrez peut-être pas à parler aussi bien qu'un locuteur natif, mais vous devriez être capable de parler suffisamment bien pour que les locuteurs natifs comprennent ce que vous avez à dire.\",\n",
       " \"Et la bonne nouvelle, c'est qu'aujourd'hui l'économie est à nouveau en croissance.\",\n",
       " \"Les cigarettes électroniques sont promues comme une alternative saine aux cigarettes de tabac, mais les autorités sanitaires s'inquiètent des effets à long terme sur la santé des utilisateurs\",\n",
       " \"Il est encore trop difficile de trouver un emploi Et même si vous avez des chances d'obtenir un emploi, vous avez plus de mal à payer les coûts croissants de tout, de l'épicerie à l'essence\",\n",
       " \"Même à la fin du XIXe siècle, les marins de la marine britannique n'étaient pas autorisés à utiliser des couteaux et des fourchettes car leur utilisation était considérée comme un signe de faiblesse.\",\n",
       " \"Cinq tremblements de magnitude supérieure à 5 0 sur l'échelle de Richter ont secoué le Japon cette semaine, mais les scientifiques préviennent que la plus grande réplique attendue n'a pas encore frappé\",\n",
       " \"Peu importe à quel point vous essayez de convaincre les gens que le chocolat est de la vanille, ce sera toujours du chocolat, même si vous parvenez à vous convaincre, ainsi que quelques autres, que c'est de la vanille.\",\n",
       " \"Un enfant qui est un locuteur natif sait généralement beaucoup de choses sur sa langue qu'un locuteur non natif qui étudie depuis des années ne sait toujours pas et ne saura peut-être jamais\",\n",
       " \"Il existe quatre causes principales de décès liés à l'alcool. Les blessures causées par des accidents de voiture ou la violence en sont une. Des maladies comme la cirrhose du foie, le cancer du cœur et les maladies du système sanguin sont les autres.\",\n",
       " \"Nous devons faire respecter les lois contre la discrimination à l'embauche, au logement, à l'éducation et dans le système de justice pénale C'est ce que notre Constitution et nos idéaux les plus élevés exigent\",\n",
       " \"L'économie descendante ne fonctionne jamais, a déclaré Obama Le pays ne réussit pas lorsque seuls ceux qui sont au sommet se portent bien Nous réussissons lorsque la classe moyenne s'agrandit lorsqu'elle se sent plus en sécurité\",\n",
       " \"Une empreinte carbone est la quantité de dioxyde de carbone que nous produisons à la suite de nos activités Certaines personnes essaient de réduire leur empreinte carbone parce qu'elles sont préoccupées par le changement climatique\",\n",
       " \"La mort est quelque chose dont nous sommes souvent découragés de parler ou même de penser, mais j'ai réalisé que se préparer à la mort est l'une des choses les plus stimulantes que vous puissiez faire Penser à la mort clarifie votre vie\",\n",
       " \"Comme il existe généralement plusieurs sites Web sur un sujet donné, je clique généralement sur le bouton de retour lorsque j'arrive sur une page Web contenant des publicités contextuelles. Je vais simplement à la page suivante trouvée par Google et j'espère quelque chose de moins irritant.\",\n",
       " \"Si quelqu'un qui ne connaît pas vos antécédents dit que vous parlez comme un locuteur natif, cela signifie qu'il a probablement remarqué quelque chose dans votre façon de parler qui lui a fait réaliser que vous n'étiez pas un locuteur natif. En d'autres termes, vous ne parlez pas vraiment comme un locuteur natif.\"]"
      ]
     },
     "execution_count": 17,
     "metadata": {},
     "output_type": "execute_result"
    }
   ],
   "source": [
    "spanish_sen=[Translate(y) for y in df['English words'].tail(20)]\n",
    "spanish_sen"
   ]
  },
  {
   "cell_type": "markdown",
   "id": "c926239a",
   "metadata": {},
   "source": [
    "Task-2\n",
    "\tCreate a program that needs to automatically correct that spelling from the word or a given sentence. (Language : English) \n"
   ]
  },
  {
   "cell_type": "code",
   "execution_count": 19,
   "id": "9f7ac70b",
   "metadata": {},
   "outputs": [
    {
     "name": "stdout",
     "output_type": "stream",
     "text": [
      "library\n",
      "lifel\n",
      "press\n",
      "first\n",
      "party\n",
      "spelling\n",
      "necessary\n",
      "place\n",
      "model\n",
      "apparent\n",
      "persons\n",
      "None\n",
      "miserable\n",
      "mountain\n",
      "courage\n",
      "doctor\n",
      "department\n",
      "meaningful\n",
      "achieve\n",
      "happiness\n",
      "beautiful\n",
      "king\n",
      "money\n",
      "target\n",
      "matter\n",
      "enthused\n",
      "computer\n",
      "lonely\n",
      "define\n",
      "animals\n",
      "local\n",
      "valuable\n",
      "thanks\n",
      "feed\n",
      "proton\n",
      "meter\n",
      "hatred\n",
      "missing\n",
      "traffic\n",
      "door\n",
      "sexual\n",
      "within\n"
     ]
    }
   ],
   "source": [
    "from spellchecker import SpellChecker\n",
    "specheck=SpellChecker()\n",
    "misspelled_words=specheck.unknown([\"compter\",\"mont\",\"loney\",\"beatiful\",\"taret\",\"sexualy\",\"anmals\",\"trafic\",\"empythasi\",\"meaningfl\",\"targty\",\n",
    "                                   \"speling\",\"prsons\",\"woman\",\"mattes\",\"thnks\",\"fxed\",\"mter\",\"plae\",\"achievent\",\"couage\",\"enthusai\",\"neccsary\",\n",
    "                                  \"apparment\",\"lcal\",\"libray\",\"definie\",\"prcess\",\"valueable\",\"mentor\",\"dctor\",\"protol\",\"loneile\",\"matred\",\"gage\",\n",
    "                                  \"donor\",\"depatment\",\"deor\",\"missng\",\"moel\",\"hapiness\",\"misarable\",\"lifele\",\"pathin\",\"hking\",\"mounain\",\"forst\",\"tres\",\"bach\"])\n",
    "for word in misspelled_words:\n",
    "    print(specheck.correction(word))"
   ]
  },
  {
   "cell_type": "code",
   "execution_count": 19,
   "id": "53fdd46d",
   "metadata": {},
   "outputs": [
    {
     "name": "stdout",
     "output_type": "stream",
     "text": [
      "Requirement already satisfied: swig in c:\\users\\dell\\anaconda3\\lib\\site-packages (4.1.0)\n"
     ]
    }
   ],
   "source": [
    "!pip install swig"
   ]
  },
  {
   "cell_type": "code",
   "execution_count": 20,
   "id": "cb2c9595",
   "metadata": {},
   "outputs": [
    {
     "name": "stdout",
     "output_type": "stream",
     "text": [
      "Collecting jamspell\n",
      "  Using cached jamspell-0.0.12.tar.gz (174 kB)\n",
      "Building wheels for collected packages: jamspell\n",
      "  Building wheel for jamspell (setup.py): started\n",
      "  Building wheel for jamspell (setup.py): finished with status 'error'\n",
      "  Running setup.py clean for jamspell\n",
      "Failed to build jamspell\n",
      "Installing collected packages: jamspell\n",
      "    Running setup.py install for jamspell: started\n",
      "    Running setup.py install for jamspell: finished with status 'error'\n"
     ]
    },
    {
     "name": "stderr",
     "output_type": "stream",
     "text": [
      "  ERROR: Command errored out with exit status 1:\n",
      "   command: 'C:\\Users\\Dell\\anaconda3\\python.exe' -u -c 'import io, os, sys, setuptools, tokenize; sys.argv[0] = '\"'\"'C:\\\\Users\\\\Dell\\\\AppData\\\\Local\\\\Temp\\\\pip-install-xrd8zgi4\\\\jamspell_d10b10cd89304b0b8d0517755ef74e29\\\\setup.py'\"'\"'; __file__='\"'\"'C:\\\\Users\\\\Dell\\\\AppData\\\\Local\\\\Temp\\\\pip-install-xrd8zgi4\\\\jamspell_d10b10cd89304b0b8d0517755ef74e29\\\\setup.py'\"'\"';f = getattr(tokenize, '\"'\"'open'\"'\"', open)(__file__) if os.path.exists(__file__) else io.StringIO('\"'\"'from setuptools import setup; setup()'\"'\"');code = f.read().replace('\"'\"'\\r\\n'\"'\"', '\"'\"'\\n'\"'\"');f.close();exec(compile(code, __file__, '\"'\"'exec'\"'\"'))' bdist_wheel -d 'C:\\Users\\Dell\\AppData\\Local\\Temp\\pip-wheel-g_v2we2q'\n",
      "       cwd: C:\\Users\\Dell\\AppData\\Local\\Temp\\pip-install-xrd8zgi4\\jamspell_d10b10cd89304b0b8d0517755ef74e29\\\n",
      "  Complete output (51 lines):\n",
      "  C:\\Users\\Dell\\anaconda3\\lib\\site-packages\\setuptools\\dist.py:757: UserWarning: Usage of dash-separated 'description-file' will not be supported in future versions. Please use the underscore name 'description_file' instead\n",
      "    warnings.warn(\n",
      "  running bdist_wheel\n",
      "  running build\n",
      "  running build_ext\n",
      "  building '_jamspell' extension\n",
      "  Traceback (most recent call last):\n",
      "    File \"<string>\", line 1, in <module>\n",
      "    File \"C:\\Users\\Dell\\AppData\\Local\\Temp\\pip-install-xrd8zgi4\\jamspell_d10b10cd89304b0b8d0517755ef74e29\\setup.py\", line 55, in <module>\n",
      "      setup(\n",
      "    File \"C:\\Users\\Dell\\anaconda3\\lib\\site-packages\\setuptools\\__init__.py\", line 87, in setup\n",
      "      return distutils.core.setup(**attrs)\n",
      "    File \"C:\\Users\\Dell\\anaconda3\\lib\\site-packages\\setuptools\\_distutils\\core.py\", line 148, in setup\n",
      "      return run_commands(dist)\n",
      "    File \"C:\\Users\\Dell\\anaconda3\\lib\\site-packages\\setuptools\\_distutils\\core.py\", line 163, in run_commands\n",
      "      dist.run_commands()\n",
      "    File \"C:\\Users\\Dell\\anaconda3\\lib\\site-packages\\setuptools\\_distutils\\dist.py\", line 967, in run_commands\n",
      "      self.run_command(cmd)\n",
      "    File \"C:\\Users\\Dell\\anaconda3\\lib\\site-packages\\setuptools\\dist.py\", line 1214, in run_command\n",
      "      super().run_command(command)\n",
      "    File \"C:\\Users\\Dell\\anaconda3\\lib\\site-packages\\setuptools\\_distutils\\dist.py\", line 986, in run_command\n",
      "      cmd_obj.run()\n",
      "    File \"C:\\Users\\Dell\\anaconda3\\lib\\site-packages\\wheel\\bdist_wheel.py\", line 299, in run\n",
      "      self.run_command('build')\n",
      "    File \"C:\\Users\\Dell\\anaconda3\\lib\\site-packages\\setuptools\\_distutils\\cmd.py\", line 313, in run_command\n",
      "      self.distribution.run_command(command)\n",
      "    File \"C:\\Users\\Dell\\anaconda3\\lib\\site-packages\\setuptools\\dist.py\", line 1214, in run_command\n",
      "      super().run_command(command)\n",
      "    File \"C:\\Users\\Dell\\anaconda3\\lib\\site-packages\\setuptools\\_distutils\\dist.py\", line 986, in run_command\n",
      "      cmd_obj.run()\n",
      "    File \"C:\\Users\\Dell\\AppData\\Local\\Temp\\pip-install-xrd8zgi4\\jamspell_d10b10cd89304b0b8d0517755ef74e29\\setup.py\", line 37, in run\n",
      "      self.run_command('build_ext')\n",
      "    File \"C:\\Users\\Dell\\anaconda3\\lib\\site-packages\\setuptools\\_distutils\\cmd.py\", line 313, in run_command\n",
      "      self.distribution.run_command(command)\n",
      "    File \"C:\\Users\\Dell\\anaconda3\\lib\\site-packages\\setuptools\\dist.py\", line 1214, in run_command\n",
      "      super().run_command(command)\n",
      "    File \"C:\\Users\\Dell\\anaconda3\\lib\\site-packages\\setuptools\\_distutils\\dist.py\", line 986, in run_command\n",
      "      cmd_obj.run()\n",
      "    File \"C:\\Users\\Dell\\anaconda3\\lib\\site-packages\\setuptools\\_distutils\\command\\build_ext.py\", line 339, in run\n",
      "      self.build_extensions()\n",
      "    File \"C:\\Users\\Dell\\anaconda3\\lib\\site-packages\\setuptools\\_distutils\\command\\build_ext.py\", line 448, in build_extensions\n",
      "      self._build_extensions_serial()\n",
      "    File \"C:\\Users\\Dell\\anaconda3\\lib\\site-packages\\setuptools\\_distutils\\command\\build_ext.py\", line 473, in _build_extensions_serial\n",
      "      self.build_extension(ext)\n",
      "    File \"C:\\Users\\Dell\\anaconda3\\lib\\site-packages\\setuptools\\_distutils\\command\\build_ext.py\", line 506, in build_extension\n",
      "      sources = self.swig_sources(sources, ext)\n",
      "    File \"C:\\Users\\Dell\\anaconda3\\lib\\site-packages\\setuptools\\_distutils\\command\\build_ext.py\", line 597, in swig_sources\n",
      "      swig = self.swig or self.find_swig()\n",
      "    File \"C:\\Users\\Dell\\AppData\\Local\\Temp\\pip-install-xrd8zgi4\\jamspell_d10b10cd89304b0b8d0517755ef74e29\\setup.py\", line 50, in find_swig\n",
      "      assert subprocess.check_output([swigBinary, \"-version\"]).find(b'SWIG Version 3') != -1\n",
      "  AssertionError\n",
      "  ----------------------------------------\n",
      "  ERROR: Failed building wheel for jamspell\n",
      "    ERROR: Command errored out with exit status 1:\n",
      "     command: 'C:\\Users\\Dell\\anaconda3\\python.exe' -u -c 'import io, os, sys, setuptools, tokenize; sys.argv[0] = '\"'\"'C:\\\\Users\\\\Dell\\\\AppData\\\\Local\\\\Temp\\\\pip-install-xrd8zgi4\\\\jamspell_d10b10cd89304b0b8d0517755ef74e29\\\\setup.py'\"'\"'; __file__='\"'\"'C:\\\\Users\\\\Dell\\\\AppData\\\\Local\\\\Temp\\\\pip-install-xrd8zgi4\\\\jamspell_d10b10cd89304b0b8d0517755ef74e29\\\\setup.py'\"'\"';f = getattr(tokenize, '\"'\"'open'\"'\"', open)(__file__) if os.path.exists(__file__) else io.StringIO('\"'\"'from setuptools import setup; setup()'\"'\"');code = f.read().replace('\"'\"'\\r\\n'\"'\"', '\"'\"'\\n'\"'\"');f.close();exec(compile(code, __file__, '\"'\"'exec'\"'\"'))' install --record 'C:\\Users\\Dell\\AppData\\Local\\Temp\\pip-record-f9rfpo54\\install-record.txt' --single-version-externally-managed --compile --install-headers 'C:\\Users\\Dell\\anaconda3\\Include\\jamspell'\n",
      "         cwd: C:\\Users\\Dell\\AppData\\Local\\Temp\\pip-install-xrd8zgi4\\jamspell_d10b10cd89304b0b8d0517755ef74e29\\\n",
      "    Complete output (44 lines):\n",
      "    C:\\Users\\Dell\\anaconda3\\lib\\site-packages\\setuptools\\dist.py:757: UserWarning: Usage of dash-separated 'description-file' will not be supported in future versions. Please use the underscore name 'description_file' instead\n",
      "      warnings.warn(\n",
      "    running install\n",
      "    C:\\Users\\Dell\\anaconda3\\lib\\site-packages\\setuptools\\command\\install.py:34: SetuptoolsDeprecationWarning: setup.py install is deprecated. Use build and pip and other standards-based tools.\n",
      "      warnings.warn(\n",
      "    running build_ext\n",
      "    building '_jamspell' extension\n",
      "    Traceback (most recent call last):\n",
      "      File \"<string>\", line 1, in <module>\n",
      "      File \"C:\\Users\\Dell\\AppData\\Local\\Temp\\pip-install-xrd8zgi4\\jamspell_d10b10cd89304b0b8d0517755ef74e29\\setup.py\", line 55, in <module>\n",
      "        setup(\n",
      "      File \"C:\\Users\\Dell\\anaconda3\\lib\\site-packages\\setuptools\\__init__.py\", line 87, in setup\n",
      "        return distutils.core.setup(**attrs)\n",
      "      File \"C:\\Users\\Dell\\anaconda3\\lib\\site-packages\\setuptools\\_distutils\\core.py\", line 148, in setup\n",
      "        return run_commands(dist)\n",
      "      File \"C:\\Users\\Dell\\anaconda3\\lib\\site-packages\\setuptools\\_distutils\\core.py\", line 163, in run_commands\n",
      "        dist.run_commands()\n",
      "      File \"C:\\Users\\Dell\\anaconda3\\lib\\site-packages\\setuptools\\_distutils\\dist.py\", line 967, in run_commands\n",
      "        self.run_command(cmd)\n",
      "      File \"C:\\Users\\Dell\\anaconda3\\lib\\site-packages\\setuptools\\dist.py\", line 1214, in run_command\n",
      "        super().run_command(command)\n",
      "      File \"C:\\Users\\Dell\\anaconda3\\lib\\site-packages\\setuptools\\_distutils\\dist.py\", line 986, in run_command\n",
      "        cmd_obj.run()\n",
      "      File \"C:\\Users\\Dell\\AppData\\Local\\Temp\\pip-install-xrd8zgi4\\jamspell_d10b10cd89304b0b8d0517755ef74e29\\setup.py\", line 43, in run\n",
      "        self.run_command('build_ext')\n",
      "      File \"C:\\Users\\Dell\\anaconda3\\lib\\site-packages\\setuptools\\_distutils\\cmd.py\", line 313, in run_command\n",
      "        self.distribution.run_command(command)\n",
      "      File \"C:\\Users\\Dell\\anaconda3\\lib\\site-packages\\setuptools\\dist.py\", line 1214, in run_command\n",
      "        super().run_command(command)\n",
      "      File \"C:\\Users\\Dell\\anaconda3\\lib\\site-packages\\setuptools\\_distutils\\dist.py\", line 986, in run_command\n",
      "        cmd_obj.run()\n",
      "      File \"C:\\Users\\Dell\\anaconda3\\lib\\site-packages\\setuptools\\_distutils\\command\\build_ext.py\", line 339, in run\n",
      "        self.build_extensions()\n",
      "      File \"C:\\Users\\Dell\\anaconda3\\lib\\site-packages\\setuptools\\_distutils\\command\\build_ext.py\", line 448, in build_extensions\n",
      "        self._build_extensions_serial()\n",
      "      File \"C:\\Users\\Dell\\anaconda3\\lib\\site-packages\\setuptools\\_distutils\\command\\build_ext.py\", line 473, in _build_extensions_serial\n",
      "        self.build_extension(ext)\n",
      "      File \"C:\\Users\\Dell\\anaconda3\\lib\\site-packages\\setuptools\\_distutils\\command\\build_ext.py\", line 506, in build_extension\n",
      "        sources = self.swig_sources(sources, ext)\n",
      "      File \"C:\\Users\\Dell\\anaconda3\\lib\\site-packages\\setuptools\\_distutils\\command\\build_ext.py\", line 597, in swig_sources\n",
      "        swig = self.swig or self.find_swig()\n",
      "      File \"C:\\Users\\Dell\\AppData\\Local\\Temp\\pip-install-xrd8zgi4\\jamspell_d10b10cd89304b0b8d0517755ef74e29\\setup.py\", line 50, in find_swig\n",
      "        assert subprocess.check_output([swigBinary, \"-version\"]).find(b'SWIG Version 3') != -1\n",
      "    AssertionError\n",
      "    ----------------------------------------\n",
      "ERROR: Command errored out with exit status 1: 'C:\\Users\\Dell\\anaconda3\\python.exe' -u -c 'import io, os, sys, setuptools, tokenize; sys.argv[0] = '\"'\"'C:\\\\Users\\\\Dell\\\\AppData\\\\Local\\\\Temp\\\\pip-install-xrd8zgi4\\\\jamspell_d10b10cd89304b0b8d0517755ef74e29\\\\setup.py'\"'\"'; __file__='\"'\"'C:\\\\Users\\\\Dell\\\\AppData\\\\Local\\\\Temp\\\\pip-install-xrd8zgi4\\\\jamspell_d10b10cd89304b0b8d0517755ef74e29\\\\setup.py'\"'\"';f = getattr(tokenize, '\"'\"'open'\"'\"', open)(__file__) if os.path.exists(__file__) else io.StringIO('\"'\"'from setuptools import setup; setup()'\"'\"');code = f.read().replace('\"'\"'\\r\\n'\"'\"', '\"'\"'\\n'\"'\"');f.close();exec(compile(code, __file__, '\"'\"'exec'\"'\"'))' install --record 'C:\\Users\\Dell\\AppData\\Local\\Temp\\pip-record-f9rfpo54\\install-record.txt' --single-version-externally-managed --compile --install-headers 'C:\\Users\\Dell\\anaconda3\\Include\\jamspell' Check the logs for full command output.\n"
     ]
    }
   ],
   "source": [
    "!pip install jamspell"
   ]
  },
  {
   "cell_type": "code",
   "execution_count": 22,
   "id": "4d37295a",
   "metadata": {},
   "outputs": [
    {
     "ename": "NameError",
     "evalue": "name 'jamspell' is not defined",
     "output_type": "error",
     "traceback": [
      "\u001b[1;31m---------------------------------------------------------------------------\u001b[0m",
      "\u001b[1;31mNameError\u001b[0m                                 Traceback (most recent call last)",
      "Input \u001b[1;32mIn [22]\u001b[0m, in \u001b[0;36m<cell line: 2>\u001b[1;34m()\u001b[0m\n\u001b[0;32m      1\u001b[0m \u001b[38;5;66;03m# import jamspell\u001b[39;00m\n\u001b[1;32m----> 2\u001b[0m jsp\u001b[38;5;241m=\u001b[39m\u001b[43mjamspell\u001b[49m\u001b[38;5;241m.\u001b[39mTSpellCorrector()\n\u001b[0;32m      3\u001b[0m \u001b[38;5;28;01massert\u001b[39;00m jsp\u001b[38;5;241m.\u001b[39mLoadLangModel(\u001b[38;5;124m'\u001b[39m\u001b[38;5;124men.bin\u001b[39m\u001b[38;5;124m'\u001b[39m)\n\u001b[0;32m      5\u001b[0m \u001b[38;5;28mprint\u001b[39m(jsp\u001b[38;5;241m.\u001b[39mFixFragment(\u001b[38;5;124m\"\u001b[39m\u001b[38;5;124mPationce is a vitue\u001b[39m\u001b[38;5;124m\"\u001b[39m))\n",
      "\u001b[1;31mNameError\u001b[0m: name 'jamspell' is not defined"
     ]
    }
   ],
   "source": [
    "# import jamspell\n",
    "jsp=jamspell.TSpellCorrector()\n",
    "assert jsp.LoadLangModel('en.bin')\n",
    "\n",
    "print(jsp.FixFragment(\"Pationce is a vitue\"))\n",
    "print(jsp.FixFragment(\"If you can dram it, you can do it\"))\n",
    "print(jsp.FixFragment(\"He who is brae is fre\"))\n",
    "print(jsp.FixFragment(\"Everythng you can imagne is real\"))\n",
    "print(jsp.FixFragment(\"Whatver you are, be a good one\"))\n",
    "print(jsp.FixFragment(\"Fal seven times and sand up eight\"))\n",
    "print(jsp.FixFragment(\"Impossble is just an opinon\"))\n",
    "print(jsp.FixFragment(\"Wherver you go, go with all your heat\"))\n",
    "print(jsp.FixFragment(\"Make each day your mastepece\"))\n",
    "print(jsp.FixFragment(\"Drems don’t work unless you do\"))\n",
    "print(jsp.FixFragment(\"Opportunties don’t hapen. You create them\"))\n",
    "print(jsp.FixFragment(\"Doubt klls more drems than faiure ever will\"))\n",
    "print(jsp.FixFragment(\"Focus on being prodctive insead of busy\"))\n",
    "print(jsp.FixFragment(\"A winer is a dreaer who never gives up\"))\n",
    "print(jsp.FixFragment(\"Adventure may hurt but monotny will kill you.\"))\n",
    "print(jsp.FixFragment(\"The secret of getting ahad is getting started\"))\n",
    "print(jsp.FixFragment(\"All growth strts at the end of your comfrt zone\"))\n",
    "print(jsp.FixFragment(\"The best way to preict the future is to create it\"))\n",
    "print(jsp.FixFragment(\"Success is the child of audaity\"))\n",
    "print(jsp.FixFragment(\"Every one of us is the sum total of his own thouhts\"))\n",
    "print(jsp.FixFragment(\"That which does not kill us makes us stroger\"))\n",
    "print(jsp.FixFragment(\"Success occurs when opporunity meets preparation\"))\n",
    "print(jsp.FixFragment(\"An investent in knowledge pays the best interest\"))\n",
    "print(jsp.FixFragment(\"If you want to earn more, lern more\"))"
   ]
  }
 ],
 "metadata": {
  "kernelspec": {
   "display_name": "Python 3 (ipykernel)",
   "language": "python",
   "name": "python3"
  },
  "language_info": {
   "codemirror_mode": {
    "name": "ipython",
    "version": 3
   },
   "file_extension": ".py",
   "mimetype": "text/x-python",
   "name": "python",
   "nbconvert_exporter": "python",
   "pygments_lexer": "ipython3",
   "version": "3.9.12"
  }
 },
 "nbformat": 4,
 "nbformat_minor": 5
}
