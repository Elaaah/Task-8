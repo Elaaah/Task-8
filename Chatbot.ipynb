{
 "cells": [
  {
   "cell_type": "code",
   "execution_count": 1,
   "id": "1afce486",
   "metadata": {},
   "outputs": [
    {
     "name": "stdout",
     "output_type": "stream",
     "text": [
      "Requirement already satisfied: speechrecognition in c:\\users\\dell\\anaconda3\\lib\\site-packages (3.9.0)\n",
      "Requirement already satisfied: requests>=2.26.0 in c:\\users\\dell\\anaconda3\\lib\\site-packages (from speechrecognition) (2.27.1)\n",
      "Requirement already satisfied: idna<4,>=2.5 in c:\\users\\dell\\anaconda3\\lib\\site-packages (from requests>=2.26.0->speechrecognition) (3.3)\n",
      "Requirement already satisfied: certifi>=2017.4.17 in c:\\users\\dell\\anaconda3\\lib\\site-packages (from requests>=2.26.0->speechrecognition) (2021.10.8)\n",
      "Requirement already satisfied: urllib3<1.27,>=1.21.1 in c:\\users\\dell\\anaconda3\\lib\\site-packages (from requests>=2.26.0->speechrecognition) (1.26.9)\n",
      "Requirement already satisfied: charset-normalizer~=2.0.0 in c:\\users\\dell\\anaconda3\\lib\\site-packages (from requests>=2.26.0->speechrecognition) (2.0.4)\n"
     ]
    }
   ],
   "source": [
    "!pip install speechrecognition"
   ]
  },
  {
   "cell_type": "code",
   "execution_count": 2,
   "id": "f64b8ff3",
   "metadata": {},
   "outputs": [
    {
     "name": "stdout",
     "output_type": "stream",
     "text": [
      "Requirement already satisfied: pyttsx3 in c:\\users\\dell\\anaconda3\\lib\\site-packages (2.90)\n",
      "Requirement already satisfied: pypiwin32 in c:\\users\\dell\\anaconda3\\lib\\site-packages (from pyttsx3) (223)\n",
      "Requirement already satisfied: comtypes in c:\\users\\dell\\anaconda3\\lib\\site-packages (from pyttsx3) (1.1.10)\n",
      "Requirement already satisfied: pywin32 in c:\\users\\dell\\anaconda3\\lib\\site-packages (from pyttsx3) (302)\n"
     ]
    }
   ],
   "source": [
    "!pip install pyttsx3"
   ]
  },
  {
   "cell_type": "code",
   "execution_count": 4,
   "id": "f48e9f3d",
   "metadata": {},
   "outputs": [
    {
     "name": "stdout",
     "output_type": "stream",
     "text": [
      "Requirement already satisfied: pyaudio in c:\\users\\dell\\anaconda3\\lib\\site-packages (0.2.12)\n"
     ]
    }
   ],
   "source": [
    "!pip install pyaudio"
   ]
  },
  {
   "cell_type": "code",
   "execution_count": 5,
   "id": "c38b5ef9",
   "metadata": {},
   "outputs": [],
   "source": [
    "import speech_recognition as sr\n",
    "import pyttsx3\n",
    "\n",
    "r=sr.Recognizer()\n",
    "\n",
    "def SpeakText(command):\n",
    "    engine=pyttsx3.init()\n",
    "    engine.say(command)\n",
    "    engine.runAndWait()\n",
    "    "
   ]
  },
  {
   "cell_type": "code",
   "execution_count": 6,
   "id": "181a799b",
   "metadata": {},
   "outputs": [],
   "source": [
    "def speech():\n",
    "    try:\n",
    "        \n",
    "        with sr.Microphone() as source2:\n",
    "            r.adjust_for_ambient_noise(source2,duration=0.2)\n",
    "            \n",
    "            audio2=r.record(source2,duration=5)\n",
    "            MyText=r.recognize_google(audio2)\n",
    "            \n",
    "            return MyText\n",
    "    \n",
    "    except sr.RequestError as e:\n",
    "        print(\"could not request result;{0}\".format(e))\n",
    "    except sr.UnknownValueError:\n",
    "        speech()"
   ]
  },
  {
   "cell_type": "code",
   "execution_count": null,
   "id": "b0ddaec3",
   "metadata": {},
   "outputs": [],
   "source": [
    "f=0\n",
    "while f==0:\n",
    "    SpeakText('Welcome to Auro resort! What\\'s your name sir or madam?:')\n",
    "    print('Welcome to Auro resort! What\\'s your name sir or madam?',end=' ')\n",
    "    name=speech()\n",
    "    print(name)\n",
    "    SpeakText('What is your Mobile Number?')\n",
    "    print('What is your Mobile Number?',end=' ')\n",
    "    no=speech()\n",
    "    print(no)\n",
    "    SpeakText('What is your Address?')\n",
    "    print('What is your Address?',end=' ')\n",
    "    add=speech()\n",
    "    print(add)\n",
    "    SpeakText('Your ID Proof?')\n",
    "    print('Your ID Proof?',end=' ')\n",
    "    idp=speech()\n",
    "    print(idp)\n",
    "    l=0\n",
    "    while l==0:\n",
    "        SpeakText('Your Room Type? Available rooms are suite,Honeymoon,Family')\n",
    "        print('Your Room Type? Available rooms are suite,Honeymoon,Family')\n",
    "        room=speech()\n",
    "        if room.lower()!='honeymoon':\n",
    "            print(room)\n",
    "            l=1\n",
    "        else:\n",
    "            print('Your Preferred room not available. Do you wish to continue?')\n",
    "            SpeakText('Your Preferred room not available. Do you wish to continue with other rooms?')\n",
    "            con=speech()\n",
    "            if con.lower()=='yes':\n",
    "                continue\n",
    "            else:\n",
    "                print('We miss you! Try booking with us in future')\n",
    "                SpeakText('We miss you! Try booking with us in future')\n",
    "                f=1\n",
    "                break\n",
    "    if f==1:\n",
    "        break\n",
    "    SpeakText('Your Arrival Date?')\n",
    "    print('Your Arrival Date?',end=' ')\n",
    "    date=speech()\n",
    "    print(date)\n",
    "    SpeakText('Your Departure Date?')\n",
    "    print('Your Departure Date?',end=' ')\n",
    "    ddate=speech()\n",
    "    print(ddate)\n",
    "    SpeakText('Do you confrim your details and booking?')\n",
    "    print('Do you confrim your details and booking?')\n",
    "    print('Name:',name,'\\n','Mob No.:',no,'\\n','Address:',add,'\\n','ID Proof:',idp,'/n','Room Type:',room,'/n','Arrival Date:',date,'/n',\n",
    "         'Departue Date:',ddate)\n",
    "    conf=speech()\n",
    "    if conf.lower()=='yes':\n",
    "        print('Mr/Ms '+Name+', your booking is confirmed.')\n",
    "        SpeakText('Mr/Ms '+Name+', your booking is confirmed.')\n",
    "    else:\n",
    "        print('your booking is not confirmed. Try again with another booking')\n",
    "        SpeakText('your booking is not confirmed. Try again with another booking')\n",
    "    f=1\n",
    "        \n",
    "    \n"
   ]
  },
  {
   "cell_type": "code",
   "execution_count": null,
   "id": "144022b5",
   "metadata": {},
   "outputs": [],
   "source": []
  },
  {
   "cell_type": "code",
   "execution_count": null,
   "id": "9c9dda8c",
   "metadata": {},
   "outputs": [],
   "source": []
  }
 ],
 "metadata": {
  "kernelspec": {
   "display_name": "Python 3 (ipykernel)",
   "language": "python",
   "name": "python3"
  },
  "language_info": {
   "codemirror_mode": {
    "name": "ipython",
    "version": 3
   },
   "file_extension": ".py",
   "mimetype": "text/x-python",
   "name": "python",
   "nbconvert_exporter": "python",
   "pygments_lexer": "ipython3",
   "version": "3.9.12"
  }
 },
 "nbformat": 4,
 "nbformat_minor": 5
}
